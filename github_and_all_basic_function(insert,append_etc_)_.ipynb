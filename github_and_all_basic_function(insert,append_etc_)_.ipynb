{
  "nbformat": 4,
  "nbformat_minor": 0,
  "metadata": {
    "colab": {
      "provenance": []
    },
    "kernelspec": {
      "name": "python3",
      "display_name": "Python 3"
    },
    "language_info": {
      "name": "python"
    }
  },
  "cells": [
    {
      "cell_type": "code",
      "execution_count": 10,
      "metadata": {
        "id": "Dkmngb24iGCK"
      },
      "outputs": [],
      "source": [
        "# #What is a correct way to declare a Python variable?\n",
        "\n",
        "# var x = 5\n",
        "# #x = 5\n",
        "# $x = 5\n",
        "# x = 5"
      ]
    },
    {
      "cell_type": "code",
      "source": [
        "#What is a correct syntax to print a string in upper case letters?\n",
        "\n",
        "'Welcome'.upper()\n",
        "'Welcome'.toUpper()\n",
        "'Welcome'.toUpperCase()"
      ],
      "metadata": {
        "id": "ka56qqgRijPa"
      },
      "execution_count": null,
      "outputs": []
    },
    {
      "cell_type": "code",
      "source": [
        "#Return the string without any whitespace at the beginning or the end.\n",
        "\n",
        "\n",
        "txt = \"       Hello World \"\n",
        "x=txt.strip()\n",
        "print(x)\n"
      ],
      "metadata": {
        "colab": {
          "base_uri": "https://localhost:8080/"
        },
        "id": "kcONHNpYin_B",
        "outputId": "f6437cc3-5aee-46f3-987c-03498e5a2fd4"
      },
      "execution_count": 15,
      "outputs": [
        {
          "output_type": "stream",
          "name": "stdout",
          "text": [
            "Hello World\n"
          ]
        }
      ]
    },
    {
      "cell_type": "code",
      "source": [
        "#Convert the value of txt to upper case.\n",
        "\n",
        "\n",
        "txt = \"Hello World\"\n",
        "txt_u= txt.upper()\n",
        "print(txt_u)\n"
      ],
      "metadata": {
        "colab": {
          "base_uri": "https://localhost:8080/"
        },
        "id": "19UCXRbfiqU_",
        "outputId": "bc178bf0-1723-4056-e2d8-1169c348e8df"
      },
      "execution_count": 18,
      "outputs": [
        {
          "output_type": "stream",
          "name": "stdout",
          "text": [
            "HELLO WORLD\n"
          ]
        }
      ]
    },
    {
      "cell_type": "code",
      "source": [
        "#Convert the value of txt to lower case.\n",
        "\n",
        "\n",
        "txt = \"Hello World\"\n",
        "txt.lower()\n"
      ],
      "metadata": {
        "colab": {
          "base_uri": "https://localhost:8080/",
          "height": 36
        },
        "id": "FS0cIadKiyyD",
        "outputId": "7fd10fa2-d071-4303-c427-179467446432"
      },
      "execution_count": 3,
      "outputs": [
        {
          "output_type": "execute_result",
          "data": {
            "text/plain": [
              "'hello world'"
            ],
            "application/vnd.google.colaboratory.intrinsic+json": {
              "type": "string"
            }
          },
          "metadata": {},
          "execution_count": 3
        }
      ]
    },
    {
      "cell_type": "code",
      "source": [
        "#Replace the character H with a J.\n",
        "\n",
        "\n",
        "txt = \"Hello World\"\n",
        "txt.replace(\"H\", \"J\")"
      ],
      "metadata": {
        "colab": {
          "base_uri": "https://localhost:8080/",
          "height": 36
        },
        "id": "z4BT0Nefi14O",
        "outputId": "e1b0838c-12b9-4ed7-df2c-10eecbdabfbd"
      },
      "execution_count": 6,
      "outputs": [
        {
          "output_type": "execute_result",
          "data": {
            "text/plain": [
              "'Jello World'"
            ],
            "application/vnd.google.colaboratory.intrinsic+json": {
              "type": "string"
            }
          },
          "metadata": {},
          "execution_count": 6
        }
      ]
    },
    {
      "cell_type": "code",
      "source": [
        "#What is a correct syntax to merge variable x and y into variable z?\n",
        "\n",
        "z = x, y\n",
        "z = x = y\n",
        "z = x + y"
      ],
      "metadata": {
        "id": "OXBjM8xii3Xg"
      },
      "execution_count": null,
      "outputs": []
    },
    {
      "cell_type": "code",
      "source": [
        "#What will be the result of the following code:\n",
        "x = 'Welcome'\n",
        "y = 'Coders'\n",
        "print(x + y)\n",
        "\n"
      ],
      "metadata": {
        "colab": {
          "base_uri": "https://localhost:8080/"
        },
        "id": "xHXtpmbWjSuG",
        "outputId": "3c1686a7-4ebc-47ae-cfe3-3e08ab02b4b2"
      },
      "execution_count": 19,
      "outputs": [
        {
          "output_type": "stream",
          "name": "stdout",
          "text": [
            "WelcomeCoders\n"
          ]
        }
      ]
    },
    {
      "cell_type": "markdown",
      "source": [
        "\n",
        "The append() function in Python is used to add a single element to the end of a list. It modifies the original list in place."
      ],
      "metadata": {
        "id": "yF4jLVpkomkh"
      }
    },
    {
      "cell_type": "code",
      "source": [
        "# list.append(element)\n"
      ],
      "metadata": {
        "id": "6xCK0-UBorOd"
      },
      "execution_count": 21,
      "outputs": []
    },
    {
      "cell_type": "code",
      "source": [
        "my_list = [1, 2, 3]\n",
        "print(\"Original list:\", my_list)  # Output: [1, 2, 3]\n",
        "\n",
        "# Append an element to the list\n",
        "my_list.append(4)\n",
        "\n",
        "print(\"Updated list:\", my_list)   # Output: [1, 2, 3, 4]\n"
      ],
      "metadata": {
        "colab": {
          "base_uri": "https://localhost:8080/"
        },
        "id": "Va1oTwCQotOV",
        "outputId": "a87d462f-e4a8-44ee-ad1a-e34e339bce01"
      },
      "execution_count": 22,
      "outputs": [
        {
          "output_type": "stream",
          "name": "stdout",
          "text": [
            "Original list: [1, 2, 3]\n",
            "Updated list: [1, 2, 3, 4]\n"
          ]
        }
      ]
    },
    {
      "cell_type": "code",
      "source": [
        "my_list = [1, 2, 3]\n",
        "\n",
        "# Append another list\n",
        "my_list.append([4, 5])\n",
        "\n",
        "print(\"Updated list:\", my_list)  # Output: [1, 2, 3, [4, 5]]\n"
      ],
      "metadata": {
        "colab": {
          "base_uri": "https://localhost:8080/"
        },
        "id": "pPkmMk1PowQC",
        "outputId": "0f4b10e9-52d7-4666-a108-feceea1b9504"
      },
      "execution_count": 23,
      "outputs": [
        {
          "output_type": "stream",
          "name": "stdout",
          "text": [
            "Updated list: [1, 2, 3, [4, 5]]\n"
          ]
        }
      ]
    },
    {
      "cell_type": "markdown",
      "source": [
        " del[a : b] :- This method deletes all the elements in range starting from index ‘a’ till ‘b’ mentioned in arguments."
      ],
      "metadata": {
        "id": "Wg-m-pj7jZc6"
      }
    },
    {
      "cell_type": "markdown",
      "source": [
        " pop() :- This method deletes the element at the position mentioned in its arguments."
      ],
      "metadata": {
        "id": "efrsnCFYjd4C"
      }
    },
    {
      "cell_type": "code",
      "source": [
        "x = 10\n",
        "print(x)  # Output: 10\n",
        "\n",
        "del x  # Deletes the variable x\n",
        "\n",
        "# print(x)  # This would raise an error since x is deleted\n"
      ],
      "metadata": {
        "colab": {
          "base_uri": "https://localhost:8080/"
        },
        "id": "2CrDiqsVjs7M",
        "outputId": "48ccd80c-cee0-4531-ae93-5c53699e557b"
      },
      "execution_count": 7,
      "outputs": [
        {
          "output_type": "stream",
          "name": "stdout",
          "text": [
            "10\n"
          ]
        }
      ]
    },
    {
      "cell_type": "code",
      "source": [
        "my_list = [1, 2, 3, 4, 5]\n",
        "print(my_list)  # Output: [1, 2, 3, 4, 5]\n",
        "\n",
        "del my_list[2]  # Deletes the item at index 2 (the number 3)\n",
        "\n",
        "print(my_list)  # Output: [1, 2, 4, 5]\n"
      ],
      "metadata": {
        "colab": {
          "base_uri": "https://localhost:8080/"
        },
        "id": "aNfIeGU_kE_6",
        "outputId": "90392286-9608-49fd-8249-76f06d349f2f"
      },
      "execution_count": 24,
      "outputs": [
        {
          "output_type": "stream",
          "name": "stdout",
          "text": [
            "[1, 2, 3, 4, 5]\n",
            "[1, 2, 4, 5]\n"
          ]
        }
      ]
    },
    {
      "cell_type": "code",
      "source": [
        "my_dict = {'a': 1, 'b': 2, 'c': 3}\n",
        "print(my_dict)  # Output: {'a': 1, 'b': 2, 'c': 3}\n",
        "\n",
        "del my_dict['b']  # Deletes the key 'b'\n",
        "\n",
        "print(my_dict)  # Output: {'a': 1, 'c': 3}\n"
      ],
      "metadata": {
        "colab": {
          "base_uri": "https://localhost:8080/"
        },
        "id": "gA6HaH13kLC0",
        "outputId": "441601d3-22f9-4c3f-c4ac-0c490568fc26"
      },
      "execution_count": 25,
      "outputs": [
        {
          "output_type": "stream",
          "name": "stdout",
          "text": [
            "{'a': 1, 'b': 2, 'c': 3}\n",
            "{'a': 1, 'c': 3}\n"
          ]
        }
      ]
    },
    {
      "cell_type": "code",
      "source": [
        "my_list = [10, 20, 30, 40, 50]\n",
        "\n",
        "# Removing the last element\n",
        "popped_item = my_list.pop()\n",
        "print(\"Popped item:\", popped_item)  # Output: 50\n",
        "print(\"Updated list:\", my_list)     # Output: [10, 20, 30, 40]\n",
        "\n",
        "# Removing an element at a specific index (e.g., index 2)\n",
        "popped_item = my_list.pop(2)\n",
        "print(\"Popped item:\", popped_item)  # Output: 30\n",
        "print(\"Updated list:\", my_list)     # Output: [10, 20, 40]\n"
      ],
      "metadata": {
        "colab": {
          "base_uri": "https://localhost:8080/"
        },
        "id": "4WjxtRAbkB1E",
        "outputId": "9d968ba3-c808-4ef8-e925-78696f9cc95a"
      },
      "execution_count": 26,
      "outputs": [
        {
          "output_type": "stream",
          "name": "stdout",
          "text": [
            "Popped item: 50\n",
            "Updated list: [10, 20, 30, 40]\n",
            "Popped item: 30\n",
            "Updated list: [10, 20, 40]\n"
          ]
        }
      ]
    },
    {
      "cell_type": "code",
      "source": [
        "my_dict = {'a': 1, 'b': 2, 'c': 3}\n",
        "\n",
        "# Removing a key-value pair (e.g., key 'b')\n",
        "popped_value = my_dict.pop('b')\n",
        "print(\"Popped value:\", popped_value)  # Output: 2\n",
        "print(\"Updated dictionary:\", my_dict) # Output: {'a': 1, 'c': 3}\n",
        "\n",
        "# You can also provide a default value if the key doesn't exist\n",
        "popped_value = my_dict.pop('d', 'Key not found')\n",
        "print(popped_value)  # Output: 'Key not found'\n"
      ],
      "metadata": {
        "colab": {
          "base_uri": "https://localhost:8080/"
        },
        "id": "0qb4WMVPk5EC",
        "outputId": "25a473f7-ed51-432d-bea8-9f05453ab943"
      },
      "execution_count": 27,
      "outputs": [
        {
          "output_type": "stream",
          "name": "stdout",
          "text": [
            "Popped value: 2\n",
            "Updated dictionary: {'a': 1, 'c': 3}\n",
            "Key not found\n"
          ]
        }
      ]
    },
    {
      "cell_type": "code",
      "source": [
        "# Python code to demonstrate the working of\n",
        "# del and pop()\n",
        "\n",
        "# initializing list\n",
        "lis = [2, 1, 3, 5, 4, 3, 8]\n",
        "\n",
        "# using del to delete elements from pos. 2 to 5\n",
        "# deletes 3,5,4\n",
        "del lis[2 : 5]\n",
        "\n",
        "# displaying list after deleting\n",
        "print (\"List elements after deleting are : \",end=\"\")\n",
        "for i in range(0, len(lis)):\n",
        "\tprint(lis[i], end=\" \")\n",
        "\n",
        "print(\"\\r\")\n",
        "\n",
        "# using pop() to delete element at pos 2\n",
        "# deletes 3\n",
        "lis.pop(2)\n",
        "\n",
        "# displaying list after popping\n",
        "print (\"List elements after popping are : \", end=\"\")\n",
        "for i in range(0, len(lis)):\n",
        "\tprint(lis[i], end=\" \")\n"
      ],
      "metadata": {
        "colab": {
          "base_uri": "https://localhost:8080/"
        },
        "id": "xtcH9CaWjlb0",
        "outputId": "70f503b0-9bf8-4a3f-c0c3-4177ac48ccc1"
      },
      "execution_count": 28,
      "outputs": [
        {
          "output_type": "stream",
          "name": "stdout",
          "text": [
            "List elements after deleting are : 2 1 3 8 \r\n",
            "List elements after popping are : 2 1 8 "
          ]
        }
      ]
    },
    {
      "cell_type": "markdown",
      "source": [
        "insert(a, x) :- This function inserts an element at the position mentioned in its arguments. It takes 2 arguments, position and element to be added at respective position."
      ],
      "metadata": {
        "id": "aURcMemVkqpI"
      }
    },
    {
      "cell_type": "markdown",
      "source": [
        " remove() :- This function is used to delete the first occurrence of number mentioned in its arguments.\n",
        " The remove() method in Python is used to remove the first occurrence of a specified value from a list. Here's how it works"
      ],
      "metadata": {
        "id": "iepOvoW5kusl"
      }
    },
    {
      "cell_type": "code",
      "source": [
        "list.insert(index, element)\n"
      ],
      "metadata": {
        "id": "T6ZUpJdVkuKt"
      },
      "execution_count": null,
      "outputs": []
    },
    {
      "cell_type": "code",
      "source": [
        "my_list = [10, 20, 30, 40]\n",
        "print(\"Original list:\", my_list)  # Output: [10, 20, 30, 40]\n",
        "\n",
        "# Insert an element at index 2\n",
        "my_list.insert(2, 25)\n",
        "\n",
        "print(\"Updated list:\", my_list)   # Output: [10, 20, 25, 30, 40]\n"
      ],
      "metadata": {
        "colab": {
          "base_uri": "https://localhost:8080/"
        },
        "id": "oHdAmGKlkpnm",
        "outputId": "15bc1089-d2a4-47b9-8e60-48b5e8d0310f"
      },
      "execution_count": 29,
      "outputs": [
        {
          "output_type": "stream",
          "name": "stdout",
          "text": [
            "Original list: [10, 20, 30, 40]\n",
            "Updated list: [10, 20, 25, 30, 40]\n"
          ]
        }
      ]
    },
    {
      "cell_type": "code",
      "source": [
        "list.remove(element)\n"
      ],
      "metadata": {
        "id": "tNFaIq51lm_w"
      },
      "execution_count": null,
      "outputs": []
    },
    {
      "cell_type": "code",
      "source": [
        "my_list = [10, 20, 30, 40, 30]\n",
        "print(\"Original list:\", my_list)  # Output: [10, 20, 30, 40, 30]\n",
        "\n",
        "# Remove the first occurrence of 30\n",
        "my_list.remove(30)\n",
        "\n",
        "print(\"Updated list:\", my_list)   # Output: [10, 20, 40, 30]\n"
      ],
      "metadata": {
        "colab": {
          "base_uri": "https://localhost:8080/"
        },
        "id": "e-fiEZWhlqnV",
        "outputId": "af32e939-d4eb-4ab2-ab4e-fecaee93d590"
      },
      "execution_count": 30,
      "outputs": [
        {
          "output_type": "stream",
          "name": "stdout",
          "text": [
            "Original list: [10, 20, 30, 40, 30]\n",
            "Updated list: [10, 20, 40, 30]\n"
          ]
        }
      ]
    },
    {
      "cell_type": "code",
      "source": [
        "# Python code to demonstrate the working of\n",
        "# sort() and reverse()\n",
        "\n",
        "# initializing list\n",
        "lis = [2, 1, 3, 5, 3, 8]\n",
        "\n",
        "# using sort() to sort the list\n",
        "lis.sort()\n",
        "\n",
        "# displaying list after sorting\n",
        "print (\"List elements after sorting are : \", end=\"\")\n",
        "for i in range(0, len(lis)):\n",
        "\tprint(lis[i], end=\" \")\n",
        "\n",
        "print(\"\\r\")\n",
        "\n",
        "# using reverse() to reverse the list\n",
        "lis.reverse()\n",
        "\n",
        "# displaying list after reversing\n",
        "print (\"List elements after reversing are : \", end=\"\")\n",
        "for i in range(0, len(lis)):\n",
        "\tprint(lis[i], end=\" \")\n"
      ],
      "metadata": {
        "colab": {
          "base_uri": "https://localhost:8080/"
        },
        "id": "m4DGIlM4lzc4",
        "outputId": "a5cb957d-b444-493b-89d7-fd13980c134d"
      },
      "execution_count": 31,
      "outputs": [
        {
          "output_type": "stream",
          "name": "stdout",
          "text": [
            "List elements after sorting are : 1 2 3 3 5 8 \r\n",
            "List elements after reversing are : 8 5 3 3 2 1 "
          ]
        }
      ]
    },
    {
      "cell_type": "markdown",
      "source": [
        "sort() :- This function sorts the list in increasing order."
      ],
      "metadata": {
        "id": "4uKc7s8dl5Wp"
      }
    },
    {
      "cell_type": "markdown",
      "source": [
        "reverse() :- This function reverses the elements of list."
      ],
      "metadata": {
        "id": "vJYflV7el82b"
      }
    },
    {
      "cell_type": "code",
      "source": [
        "my_list = [40, 10, 30, 20]\n",
        "print(\"Original list:\", my_list)  # Output: [40, 10, 30, 20]\n",
        "\n",
        "# Sort the list in ascending order\n",
        "my_list.sort()\n",
        "\n",
        "print(\"Sorted list:\", my_list)    # Output: [10, 20, 30, 40]\n"
      ],
      "metadata": {
        "colab": {
          "base_uri": "https://localhost:8080/"
        },
        "id": "nC58Xx6Hl4US",
        "outputId": "9017714b-3302-42a8-e3a2-bd00aafcce57"
      },
      "execution_count": 32,
      "outputs": [
        {
          "output_type": "stream",
          "name": "stdout",
          "text": [
            "Original list: [40, 10, 30, 20]\n",
            "Sorted list: [10, 20, 30, 40]\n"
          ]
        }
      ]
    },
    {
      "cell_type": "code",
      "source": [
        "my_list = [40, 10, 30, 20]\n",
        "\n",
        "# Sort the list in descending order\n",
        "my_list.sort(reverse=True)\n",
        "\n",
        "print(\"Sorted list (descending):\", my_list)  # Output: [40, 30, 20, 10]\n"
      ],
      "metadata": {
        "colab": {
          "base_uri": "https://localhost:8080/"
        },
        "id": "Eaf-TLmdmRny",
        "outputId": "5d64cd10-a325-4ad0-ca42-0eded06dab0b"
      },
      "execution_count": 33,
      "outputs": [
        {
          "output_type": "stream",
          "name": "stdout",
          "text": [
            "Sorted list (descending): [40, 30, 20, 10]\n"
          ]
        }
      ]
    },
    {
      "cell_type": "code",
      "source": [
        "words = [\"apple\", \"banana\", \"cherry\", \"date\"]\n",
        "\n",
        "# Sort the list based on the length of each word\n",
        "words.sort(key=len)\n",
        "\n",
        "print(\"Sorted by length:\", words)  # Output: ['date', 'apple', 'banana', 'cherry']\n"
      ],
      "metadata": {
        "colab": {
          "base_uri": "https://localhost:8080/"
        },
        "id": "q1tBjEl1mUHq",
        "outputId": "f5db0c7a-e907-475f-af62-60b58f98bce2"
      },
      "execution_count": 34,
      "outputs": [
        {
          "output_type": "stream",
          "name": "stdout",
          "text": [
            "Sorted by length: ['date', 'apple', 'banana', 'cherry']\n"
          ]
        }
      ]
    },
    {
      "cell_type": "code",
      "source": [
        "list.reverse()\n"
      ],
      "metadata": {
        "id": "_FO23dsJmurV"
      },
      "execution_count": null,
      "outputs": []
    },
    {
      "cell_type": "code",
      "source": [
        "my_list = [1, 2, 3, 4, 5]\n",
        "print(\"Original list:\", my_list)  # Output: [1, 2, 3, 4, 5]\n",
        "\n",
        "# Reverse the list\n",
        "my_list.reverse()\n",
        "\n",
        "print(\"Reversed list:\", my_list)  # Output: [5, 4, 3, 2, 1]\n"
      ],
      "metadata": {
        "colab": {
          "base_uri": "https://localhost:8080/"
        },
        "id": "EWQDv39PmyHX",
        "outputId": "e397a6e0-f6c2-47e2-be6d-13cb14d5051a"
      },
      "execution_count": 35,
      "outputs": [
        {
          "output_type": "stream",
          "name": "stdout",
          "text": [
            "Original list: [1, 2, 3, 4, 5]\n",
            "Reversed list: [5, 4, 3, 2, 1]\n"
          ]
        }
      ]
    },
    {
      "cell_type": "code",
      "source": [
        "# Python code to demonstrate the working of\n",
        "# sort() and reverse()\n",
        "\n",
        "# initializing list\n",
        "lis = [2, 1, 3, 5, 3, 8]\n",
        "\n",
        "# using sort() to sort the list\n",
        "lis.sort()\n",
        "\n",
        "# displaying list after sorting\n",
        "print (\"List elements after sorting are : \", end=\"\")\n",
        "for i in range(0, len(lis)):\n",
        "\tprint(lis[i], end=\" \")\n",
        "\n",
        "print(\"\\r\")\n",
        "\n",
        "# using reverse() to reverse the list\n",
        "lis.reverse()\n",
        "\n",
        "# displaying list after reversing\n",
        "print (\"List elements after reversing are : \", end=\"\")\n",
        "for i in range(0, len(lis)):\n",
        "\tprint(lis[i], end=\" \")\n"
      ],
      "metadata": {
        "colab": {
          "base_uri": "https://localhost:8080/"
        },
        "id": "nxeLTYVNmzHZ",
        "outputId": "026ca3fc-d114-4546-d521-06166fb34501"
      },
      "execution_count": 36,
      "outputs": [
        {
          "output_type": "stream",
          "name": "stdout",
          "text": [
            "List elements after sorting are : 1 2 3 3 5 8 \r\n",
            "List elements after reversing are : 8 5 3 3 2 1 "
          ]
        }
      ]
    },
    {
      "cell_type": "markdown",
      "source": [
        "extend(b) :- This function is used to extend the list with the elements present in another list. This function takes another list as its argument.\n",
        "he extend() function in Python is used to extend a list by appending all elements from another iterable (such as a list, tuple, or string) to the end of the original list. Unlike append(), which adds a single element to the list, extend() adds each element from the iterable individually."
      ],
      "metadata": {
        "id": "tMQSKUAdnGsa"
      }
    },
    {
      "cell_type": "markdown",
      "source": [
        "iterable: Any iterable (list, tuple, string, etc.) whose elements you want to add to the list.\n"
      ],
      "metadata": {
        "id": "Td27SwrTnvZp"
      }
    },
    {
      "cell_type": "markdown",
      "source": [
        " clear() :- This function is used to erase all the elements of list. After this operation, list becomes empty.\n",
        "\n",
        "\n",
        "#"
      ],
      "metadata": {
        "id": "hhw8FL2fnJ5Z"
      }
    },
    {
      "cell_type": "code",
      "source": [
        "# list.extend(iterable)\n"
      ],
      "metadata": {
        "id": "g3vBexJPnwx6"
      },
      "execution_count": 38,
      "outputs": []
    },
    {
      "cell_type": "code",
      "source": [
        "my_list = [1, 2, 3]\n",
        "new_list = [4, 5, 6]\n",
        "\n",
        "# Extend the list by adding elements from new_list\n",
        "my_list.extend(new_list)\n",
        "\n",
        "print(\"Extended list:\", my_list)  # Output: [1, 2, 3, 4, 5, 6]\n"
      ],
      "metadata": {
        "colab": {
          "base_uri": "https://localhost:8080/"
        },
        "id": "_-35y3CInDLR",
        "outputId": "b74418a8-7bb5-4781-f2d5-9598668c6502"
      },
      "execution_count": 40,
      "outputs": [
        {
          "output_type": "stream",
          "name": "stdout",
          "text": [
            "Extended list: [1, 2, 3, 4, 5, 6]\n"
          ]
        }
      ]
    },
    {
      "cell_type": "code",
      "source": [
        "my_list = [1, 2, 3]\n",
        "\n",
        "# Extend the list by adding characters from a string\n",
        "my_list.extend(\"abc\")\n",
        "\n",
        "print(\"Extended list:\", my_list)  # Output: [1, 2, 3, 'a', 'b', 'c']\n"
      ],
      "metadata": {
        "colab": {
          "base_uri": "https://localhost:8080/"
        },
        "id": "fPN3EojYnlNX",
        "outputId": "60dde293-e543-4b75-ddac-18a94901eeb3"
      },
      "execution_count": 39,
      "outputs": [
        {
          "output_type": "stream",
          "name": "stdout",
          "text": [
            "Extended list: [1, 2, 3, 'a', 'b', 'c']\n"
          ]
        }
      ]
    },
    {
      "cell_type": "code",
      "source": [
        "my_list = [1, 2, 3]\n",
        "new_tuple = (7, 8, 9)\n",
        "\n",
        "# Extend the list by adding elements from a tuple\n",
        "my_list.extend(new_tuple)\n",
        "\n",
        "print(\"Extended list:\", my_list)  # Output: [1, 2, 3, 7, 8, 9]\n"
      ],
      "metadata": {
        "colab": {
          "base_uri": "https://localhost:8080/"
        },
        "id": "lqppiDNWnmMG",
        "outputId": "e355de6f-b7ac-4c24-9583-75eb888a1804"
      },
      "execution_count": 41,
      "outputs": [
        {
          "output_type": "stream",
          "name": "stdout",
          "text": [
            "Extended list: [1, 2, 3, 7, 8, 9]\n"
          ]
        }
      ]
    },
    {
      "cell_type": "code",
      "source": [
        "# list.clear()\n"
      ],
      "metadata": {
        "id": "21SOaynhoFI3"
      },
      "execution_count": null,
      "outputs": []
    },
    {
      "cell_type": "code",
      "source": [
        "my_list = [1, 2, 3, 4, 5]\n",
        "print(\"Original list:\", my_list)  # Output: [1, 2, 3, 4, 5]\n",
        "\n",
        "# Clear all elements from the list\n",
        "my_list.clear()\n",
        "\n",
        "print(\"Cleared list:\", my_list)   # Output: []\n"
      ],
      "metadata": {
        "colab": {
          "base_uri": "https://localhost:8080/"
        },
        "id": "4xQBwrs8oH1h",
        "outputId": "7166c2e4-e71c-490b-e9d5-881a48ab5a56"
      },
      "execution_count": 42,
      "outputs": [
        {
          "output_type": "stream",
          "name": "stdout",
          "text": [
            "Original list: [1, 2, 3, 4, 5]\n",
            "Cleared list: []\n"
          ]
        }
      ]
    },
    {
      "cell_type": "markdown",
      "source": [
        "1. len() :- This function returns the length of list.\n",
        "\n",
        "List = [1, 2, 3, 1, 2, 1, 2, 3, 2, 1] print(len(List)) Output: 10\n",
        "\n",
        "2. min() :- This function returns the minimum element of list.\n",
        "\n",
        "List = [2.3, 4.445, 3, 5.33, 1.054, 2.5] print(min(List)) Output: 1.054\n",
        "\n",
        "3. max() :- This function returns the maximum element of list.\n",
        "\n",
        "List = [2.3, 4.445, 3, 5.33, 1.054, 2.5] print(max(List)) Output: 5.33"
      ],
      "metadata": {
        "id": "oyIpqCYrrUmg"
      }
    },
    {
      "cell_type": "code",
      "source": [
        "# Python code to demonstrate the working of\n",
        "# len(), min() and max()\n",
        "# initializing list 1\n",
        "lis = [2, 1, 3, 5, 4]\n",
        "\n",
        "# using len() to print length of list\n",
        "print (\"The length of list is : \", end=\"\")\n",
        "print (len(lis))\n",
        "\n",
        "# using min() to print minimum element of list\n",
        "print (\"The minimum element of list is : \", end=\"\")\n",
        "print (min(lis))\n",
        "\n",
        "# using max() to print maximum element of list\n",
        "print (\"The maximum element of list is : \", end=\"\")\n",
        "print (max(lis))\n"
      ],
      "metadata": {
        "id": "kKiqKuThrVSv"
      },
      "execution_count": null,
      "outputs": []
    },
    {
      "cell_type": "markdown",
      "source": [
        "4. index(ele, beg, end) :- This function returns the index of first occurrence of element after beg and before end.\n",
        "\n",
        "List = [1, 2, 3, 1, 2, 1, 2, 3, 2, 1] print(List.index(2)) Output: 1\n",
        "\n",
        "5. count() :- This function counts the number of occurrences of elements in list.\n",
        "\n",
        "List = [1, 2, 3, 1, 2, 1, 2, 3, 2, 1] print(List.count(1)) Output: 4"
      ],
      "metadata": {
        "id": "fa_N5nNsri40"
      }
    },
    {
      "cell_type": "code",
      "source": [
        "# Python code to demonstrate the working of\n",
        "# index() and count()\n",
        "# initializing list 1\n",
        "lis = [2, 1, 3, 5, 4, 3]\n",
        "\n",
        "# using index() to print first occurrence of 3\n",
        "# prints 5\n",
        "print (\"The first occurrence of 3 after 3rd position is : \", end=\"\")\n",
        "print (lis.index(3, 3, 6))\n",
        "\n",
        "# using count() to count number of occurrence of 3\n",
        "print (\"The number of occurrences of 3 is : \", end=\"\")\n",
        "print (lis.count(3))\n"
      ],
      "metadata": {
        "colab": {
          "base_uri": "https://localhost:8080/"
        },
        "id": "mU_rKXxTrhGS",
        "outputId": "d1bd0e65-32f5-465e-b6c7-38c0d8380964"
      },
      "execution_count": 44,
      "outputs": [
        {
          "output_type": "stream",
          "name": "stdout",
          "text": [
            "The first occurrence of 3 after 3rd position is : 5\n",
            "The number of occurrences of 3 is : 2\n"
          ]
        }
      ]
    },
    {
      "cell_type": "code",
      "source": [],
      "metadata": {
        "id": "RRtNKmzMrmyW"
      },
      "execution_count": null,
      "outputs": []
    }
  ]
}