{
  "nbformat": 4,
  "nbformat_minor": 0,
  "metadata": {
    "colab": {
      "provenance": []
    },
    "kernelspec": {
      "name": "python3",
      "display_name": "Python 3"
    },
    "language_info": {
      "name": "python"
    }
  },
  "cells": [
    {
      "cell_type": "markdown",
      "source": [
        "# Operators"
      ],
      "metadata": {
        "id": "2II9dX6hENMH"
      }
    },
    {
      "cell_type": "markdown",
      "source": [
        "<p>Various Operators in Python are:</p>\n",
        "<ul>\n",
        "<li>Arithmetic operators</li>\n",
        "<li>Assignment operators</li>\n",
        "<li>Comparison operators</li>\n",
        "<li>Logical operators</li>\n",
        "<li>Identity operators</li>\n",
        "<li>Membership operators</li>\n",
        "<li>Bitwise operators</li>\n",
        "</ul>"
      ],
      "metadata": {
        "id": "djvXV5GDEQK8"
      }
    },
    {
      "cell_type": "markdown",
      "source": [
        "<p><strong>Arithmetic Operators</strong>: Used to perform mathematical operations.</p>"
      ],
      "metadata": {
        "id": "Kb3PxTucETk5"
      }
    },
    {
      "cell_type": "code",
      "source": [
        "a = 10\n",
        "b = 3\n",
        "\n",
        "print(a + b)  # Addition, Output: 13\n",
        "print(a - b)  # Subtraction, Output: 7\n",
        "print(a * b)  # Multiplication, Output: 30\n",
        "print(a / b)  # Division, Output: 3.3333333333333335\n",
        "print(a // b) # Floor Division, Output: 3\n",
        "print(a % b)  # Modulus, Output: 1\n",
        "print(a ** b) # Exponent, Output: 1000"
      ],
      "metadata": {
        "id": "ObncN8grENw5"
      },
      "execution_count": null,
      "outputs": []
    },
    {
      "cell_type": "markdown",
      "source": [
        "<p><strong>Assignment Operators</strong>: Used to assign values to variables.</p>"
      ],
      "metadata": {
        "id": "25YifH-fEZAw"
      }
    },
    {
      "cell_type": "markdown",
      "source": [
        "a = 10    # Assigns value 10 to a\n",
        "print(a)\n",
        "\n",
        "a += 5    # Same as a = a + 5, Output: 15\n",
        "print(a)\n",
        "\n",
        "a -= 3    # Same as a = a - 3, Output: 12\n",
        "print(a)\n",
        "\n",
        "a *= 2    # Same as a = a * 2, Output: 24\n",
        "print(a)\n",
        "\n",
        "a /= 6    # Same as a = a / 6, Output: 4.0\n",
        "print(a)"
      ],
      "metadata": {
        "id": "Q53rhNGpEd96"
      }
    },
    {
      "cell_type": "markdown",
      "source": [
        "<p><strong>Comparison Operators</strong>: Used to compare two values.</p>"
      ],
      "metadata": {
        "id": "Z3g87tcwEhkW"
      }
    },
    {
      "cell_type": "code",
      "source": [
        "a = 10\n",
        "b = 20\n",
        "\n",
        "print(a == b)  # Equal to, Output: False\n",
        "print(a != b)  # Not equal to, Output: True\n",
        "print(a > b)   # Greater than, Output: False\n",
        "print(a < b)   # Less than, Output: True\n",
        "print(a >= b)  # Greater than or equal to, Output: False\n",
        "print(a <= b)  # Less than or equal to, Output: True\n"
      ],
      "metadata": {
        "id": "wJMjgOGwEber"
      },
      "execution_count": null,
      "outputs": []
    },
    {
      "cell_type": "markdown",
      "source": [
        "<p><strong>Logical Operators</strong>: Used to combine conditional statements.</p>"
      ],
      "metadata": {
        "id": "VbVHHoQzErL4"
      }
    },
    {
      "cell_type": "code",
      "source": [
        "a = True\n",
        "b = False\n",
        "\n",
        "print(a and b) # Logical AND, Output: False\n",
        "print(a or b)  # Logical OR, Output: True\n",
        "print(not a)   # Logical NOT, Output: False\n"
      ],
      "metadata": {
        "id": "WBtrYfioErrC"
      },
      "execution_count": null,
      "outputs": []
    },
    {
      "cell_type": "markdown",
      "source": [
        "<p><strong>Bitwise Operators</strong>: Used to perform bitwise calculations on integers.</p>"
      ],
      "metadata": {
        "id": "ikhdIUMtEwCy"
      }
    },
    {
      "cell_type": "markdown",
      "source": [
        "<p><strong>AND Operator <code>&amp;</code></strong>: Compares each bit of the first operand with the corresponding bit of the second operand. If both bits are 1, the corresponding result bit is set to 1. Otherwise, the result bit is set to 0.</p>"
      ],
      "metadata": {
        "id": "7emEOzk6E1j3"
      }
    },
    {
      "cell_type": "code",
      "source": [
        "a = 10       # in binary: 1010\n",
        "b = 4        # in binary: 0100\n",
        "result = a & b  # result is 0 (in binary: 0000)\n",
        "print(result)\n"
      ],
      "metadata": {
        "id": "m8qQsPrpEyqD"
      },
      "execution_count": null,
      "outputs": []
    },
    {
      "cell_type": "markdown",
      "source": [
        "<p><strong>OR Operator <code>|</code></strong>: Compares each bit of the first operand with the corresponding bit of the second operand. If either bit is 1, the corresponding result bit is set to 1. Otherwise, the result bit is set to 0.</p>"
      ],
      "metadata": {
        "id": "KqLM8BlmE98x"
      }
    },
    {
      "cell_type": "code",
      "source": [
        "a = 10       # in binary: 1010\n",
        "b = 4        # in binary: 0100\n",
        "result = a | b  # result is 14 (in binary: 1110)\n",
        "print(result)\n"
      ],
      "metadata": {
        "id": "F3XydHpDE-cn"
      },
      "execution_count": null,
      "outputs": []
    },
    {
      "cell_type": "markdown",
      "source": [
        "<p><strong>NOT Operator <code>~</code></strong>: Inverts all the bits of the operand. Every 0 is changed to 1, and every 1 is changed to 0.</p>"
      ],
      "metadata": {
        "id": "hJb1r6AhFDuh"
      }
    },
    {
      "cell_type": "code",
      "source": [
        "a = 10         # in binary: 1010\n",
        "result = ~a    # result is -11 (in binary: -1011)\n",
        "print(result)\n"
      ],
      "metadata": {
        "id": "11Z4krB4FEMw"
      },
      "execution_count": null,
      "outputs": []
    },
    {
      "cell_type": "markdown",
      "source": [
        "<p><strong>XOR Operator <code>^</code></strong>: Compares each bit of the first operand with the corresponding bit of the second operand. If one of the bits is 1 (but not both), the corresponding result bit is set to 1. Otherwise, the result bit is set to 0.</p>"
      ],
      "metadata": {
        "id": "f_Lt3BgQFJOC"
      }
    },
    {
      "cell_type": "code",
      "source": [
        "a = 10       # in binary: 1010\n",
        "b = 4        # in binary: 0100\n",
        "result = a ^ b  # result is 14 (in binary: 1110)\n",
        "print(result)\n"
      ],
      "metadata": {
        "id": "NnEQvQ96FJvR"
      },
      "execution_count": null,
      "outputs": []
    },
    {
      "cell_type": "markdown",
      "source": [
        "<p><strong>Right Shift Operator <code>&gt;&gt;</code></strong>: Shifts the bits of the number to the right by the number of bits specified. Each shift to the right corresponds to dividing the number by 2.</p>"
      ],
      "metadata": {
        "id": "rEzuJBEtFOyg"
      }
    },
    {
      "cell_type": "code",
      "source": [
        "a = 10        # in binary: 1010\n",
        "result = a >> 2  # result is 2 (in binary: 0010)\n",
        "print(result)"
      ],
      "metadata": {
        "id": "gbkn2mlfFPSQ"
      },
      "execution_count": null,
      "outputs": []
    },
    {
      "cell_type": "markdown",
      "source": [
        "<p><strong>Left Shift Operator <code>&lt;&lt;</code></strong>: Shifts the bits of the number to the left by the number of bits specified. Each shift to the left corresponds to multiplying the number by 2.</p>"
      ],
      "metadata": {
        "id": "wnbz446VFUBW"
      }
    },
    {
      "cell_type": "code",
      "source": [
        "a = 10        # in binary: 1010\n",
        "result = a << 2  # result is 40 (in binary: 101000)\n",
        "print(result)"
      ],
      "metadata": {
        "id": "TBYQ7fi9FXNV"
      },
      "execution_count": null,
      "outputs": []
    },
    {
      "cell_type": "markdown",
      "source": [
        "<p><span style=\"color: #ff0000;\">Remember, bitwise operations are only applicable to integers.</span></p>"
      ],
      "metadata": {
        "id": "1YdCguoMFaDg"
      }
    },
    {
      "cell_type": "markdown",
      "source": [
        "<p><strong>Membership Operators</strong>: Used to test whether a value or variable is found in a sequence (string, list, tuple, set, and dictionary).</p>"
      ],
      "metadata": {
        "id": "KLuW6QckFe1t"
      }
    },
    {
      "cell_type": "code",
      "source": [
        "list = [1, 2, 3, 4, 5]\n",
        "print(1 in list)    # Output: True\n",
        "print(6 not in list) # Output: True"
      ],
      "metadata": {
        "id": "ox-GJKR_Fah8"
      },
      "execution_count": null,
      "outputs": []
    },
    {
      "cell_type": "markdown",
      "source": [
        "<p><strong>Identity Operators</strong>: Used to compare the objects, not if they are equal, but if they are actually the same object, with the same memory location.</p>"
      ],
      "metadata": {
        "id": "zC93aoYqFj0b"
      }
    },
    {
      "cell_type": "code",
      "source": [
        "a = 5\n",
        "b = 5"
      ],
      "metadata": {
        "id": "7g2IV2nMFkei"
      },
      "execution_count": null,
      "outputs": []
    },
    {
      "cell_type": "markdown",
      "source": [
        "<p><strong>Let us solve few problems:</strong></p>"
      ],
      "metadata": {
        "id": "R75ybGldFqBO"
      }
    },
    {
      "cell_type": "code",
      "source": [
        "# Using Arithmetic Operators\n",
        "num1 = 10\n",
        "num2 = 5\n",
        "\n",
        "add = num1 + num2\n",
        "print(\"The addition of num1 and num2 is:\", add)\n",
        "\n",
        "sub = num1 - num2\n",
        "print(\"The subtraction of num1 and num2 is:\", sub)\n",
        "\n",
        "mul = num1 * num2\n",
        "print(\"The multiplication of num1 and num2 is:\", mul)\n"
      ],
      "metadata": {
        "id": "9Notb_1UFsvj"
      },
      "execution_count": null,
      "outputs": []
    },
    {
      "cell_type": "code",
      "source": [
        "# write this code using Assignment operators\n",
        "# Using Assignment Operators\n",
        "num1 = 10\n",
        "num2 = 5\n",
        "\n",
        "num1 += num2  # equivalent to num1 = num1 + num2\n",
        "print(\"The addition of num1 and num2 is:\", num1)\n",
        "\n",
        "num1 = 10  # reset num1\n",
        "num1 -= num2  # equivalent to num1 = num1 - num2\n",
        "print(\"The subtraction of num1 and num2 is:\", num1)\n",
        "\n",
        "num1 = 10  # reset num1\n",
        "num1 *= num2  # equivalent to num1 = num1 * num2\n",
        "print(\"The multiplication of num1 and num2 is:\", num1)\n",
        "\n"
      ],
      "metadata": {
        "id": "sjLCGIdZF38L"
      },
      "execution_count": null,
      "outputs": []
    },
    {
      "cell_type": "markdown",
      "source": [
        "# Control flow: if else elif"
      ],
      "metadata": {
        "id": "t32-VPLSGVbh"
      }
    },
    {
      "cell_type": "markdown",
      "source": [
        "<p>&nbsp;Conditional statements are used to execute or skip blocks of code based on certain conditions. The if, elif, and else keywords are used to define these conditional statements.</p>"
      ],
      "metadata": {
        "id": "IDZd-u0-GcLg"
      }
    },
    {
      "cell_type": "code",
      "source": [
        "age = 20\n",
        "if age >= 18:\n",
        "    print(\"You are eligible to vote.\")\n"
      ],
      "metadata": {
        "id": "eNx7oXnCGYOP"
      },
      "execution_count": null,
      "outputs": []
    },
    {
      "cell_type": "code",
      "source": [
        "age = 16\n",
        "if age >= 18:\n",
        "    print(\"You are eligible to vote.\")\n",
        "else:\n",
        "    print(\"You are not eligible to vote.\")\n"
      ],
      "metadata": {
        "id": "d1EKg7UKGhp5"
      },
      "execution_count": null,
      "outputs": []
    },
    {
      "cell_type": "code",
      "source": [
        "score = 85\n",
        "if score >= 90:\n",
        "    print(\"Grade is A\")\n",
        "elif score >= 80:\n",
        "    print(\"Grade is B\")\n",
        "elif score >= 70:\n",
        "    print(\"Grade is C\")\n",
        "else:\n",
        "    print(\"Grade is D\")\n"
      ],
      "metadata": {
        "id": "ExJVfoZVGk6i"
      },
      "execution_count": null,
      "outputs": []
    },
    {
      "cell_type": "code",
      "source": [
        "# Program to find the second-largest number from three numbers\n",
        "\n",
        "# Input the three numbers\n",
        "#num1 = float(input(\"Enter the first number: \"))\n",
        "#num2 = float(input(\"Enter the second number: \"))\n",
        "#num3 = float(input(\"Enter the third number: \"))\n",
        "\n",
        "num1 = 10\n",
        "num2 = 20\n",
        "num3 = 30\n",
        "\n",
        "# Compare the numbers to find the second-largest\n",
        "if num1 >= num2 and num1 >= num3:\n",
        "    if num2 >= num3:\n",
        "        second_largest = num2\n",
        "    else:\n",
        "        second_largest = num3\n",
        "elif num2 >= num1 and num2 >= num3:\n",
        "    if num1 >= num3:\n",
        "        second_largest = num1\n",
        "    else:\n",
        "        second_largest = num3\n",
        "else:\n",
        "    if num1 >= num2:\n",
        "        second_largest = num1\n",
        "    else:\n",
        "        second_largest = num2\n",
        "\n",
        "# Print the second-largest number\n",
        "print(\"The second-largest number is:\", second_largest)\n",
        ""
      ],
      "metadata": {
        "id": "1BgbH5SkGrZE"
      },
      "execution_count": null,
      "outputs": []
    }
  ]
}