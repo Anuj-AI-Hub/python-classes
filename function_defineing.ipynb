{
  "nbformat": 4,
  "nbformat_minor": 0,
  "metadata": {
    "colab": {
      "provenance": []
    },
    "kernelspec": {
      "name": "python3",
      "display_name": "Python 3"
    },
    "language_info": {
      "name": "python"
    }
  },
  "cells": [
    {
      "cell_type": "markdown",
      "source": [
        "# User Defined Functions in Python\n",
        "\n",
        "<p>Functions</p>\n",
        "<ul>\n",
        "    <li>Built-in Functions</li>\n",
        "    <li>User Defined Functions</li>\n",
        "</ul>\n",
        "\n",
        "<p><strong>User Defined Functions</strong> is a block of reusable code that performs a specific task. You define a function using the def keyword, followed by the function name, parentheses (), and a colon :. Inside the parentheses, you can specify any parameters your function will take. The function&apos;s code block is indented under the function definition.</p>"
      ],
      "metadata": {
        "id": "eXgpqHy1GwSp"
      }
    },
    {
      "cell_type": "markdown",
      "source": [
        "##Arbitrary Arguments, *args\n",
        "If you do not know how many arguments that will be passed into your function, add a * before the parameter name in the function definition.\n",
        "\n",
        "This way the function will receive a tuple of arguments, and can access the items accordingly:\n",
        "\n",
        "Example\n",
        "If the number of arguments is unknown, add a * before the parameter name:\n",
        "\n",
        "def my_function(*kids):\n",
        "  print(\"The youngest child is \" + kids[2])\n",
        "\n",
        "my_function(\"Emil\", \"Tobias\", \"Linus\")"
      ],
      "metadata": {
        "id": "T2nVr4TXNPHO"
      }
    },
    {
      "cell_type": "markdown",
      "source": [
        "##Keyword Arguments\n",
        "You can also send arguments with the key = value syntax.\n",
        "\n",
        "This way the order of the arguments does not matter.\n",
        "\n",
        "Example\n",
        "def my_function(child3, child2, child1):\n",
        "  print(\"The youngest child is \" + child3)\n",
        "\n",
        "my_function(child1 = \"Emil\", child2 = \"Tobias\", child3 = \"Linus\")"
      ],
      "metadata": {
        "id": "FtDd6fmMNcW2"
      }
    },
    {
      "cell_type": "code",
      "source": [
        "def my_function(child3, child2, child1):\n",
        "  print(\"The youngest child is \" + child3)\n",
        "\n",
        "my_function(child1 = \"Emil\", child2 = \"Tobias\", child3 = \"Linus\")"
      ],
      "metadata": {
        "id": "Iwc1nMomNOQ7"
      },
      "execution_count": null,
      "outputs": []
    },
    {
      "cell_type": "markdown",
      "source": [
        "Arbitrary Keyword Arguments, **kwargs\n",
        "If you do not know how many keyword arguments that will be passed into your function, add two asterisk: ** before the parameter name in the function definition.\n",
        "\n",
        "This way the function will receive a dictionary of arguments, and can access the items accordingly:\n",
        "\n",
        "Example\n",
        "If the number of keyword arguments is unknown, add a double ** before the parameter name:\n",
        "\n",
        "def my_function(**kid):\n",
        "  print(\"His last name is \" + kid[\"lname\"])\n",
        "\n",
        "my_function(fname = \"Tobias\", lname = \"Refsnes\")"
      ],
      "metadata": {
        "id": "aR7JdXX2OOez"
      }
    },
    {
      "cell_type": "code",
      "source": [
        "def my_function(**kid):\n",
        "  print(\"His last name is \" + kid[\"lname\"])\n",
        "\n",
        "my_function(fname = \"Tobias\", lname = \"Refsnes\")"
      ],
      "metadata": {
        "colab": {
          "base_uri": "https://localhost:8080/"
        },
        "id": "TKw_w_XjONpa",
        "outputId": "9d20165a-9690-4d90-8abe-7ba2722f52ff"
      },
      "execution_count": 13,
      "outputs": [
        {
          "output_type": "stream",
          "name": "stdout",
          "text": [
            "His last name is Refsnes\n"
          ]
        }
      ]
    },
    {
      "cell_type": "code",
      "execution_count": 8,
      "metadata": {
        "colab": {
          "base_uri": "https://localhost:8080/"
        },
        "id": "8XROHbKAFLKv",
        "outputId": "4583a344-6764-4f1f-87be-cf9f580e6935"
      },
      "outputs": [
        {
          "output_type": "stream",
          "name": "stdout",
          "text": [
            "Hello, World!\n"
          ]
        }
      ],
      "source": [
        "def greet():\n",
        "    print(\"Hello, World!\")\n",
        "\n",
        "# Calling the function\n",
        "greet()  # Output: Hello, World!\n"
      ]
    },
    {
      "cell_type": "code",
      "source": [
        "# Here's a slightly more complex example, where the function takes a parameter:\n",
        "\n",
        "def greet(name):\n",
        "    print(\"Hello, \" + name + \"!\")\n",
        "\n",
        "# Calling the function\n",
        "greet(\"Alice\")  # Output: Hello, Alice!\n"
      ],
      "metadata": {
        "colab": {
          "base_uri": "https://localhost:8080/"
        },
        "id": "BS247r0-G8Ed",
        "outputId": "3c110971-e557-4154-890a-73c46381738d"
      },
      "execution_count": 7,
      "outputs": [
        {
          "output_type": "stream",
          "name": "stdout",
          "text": [
            "Hello, Alice!\n"
          ]
        }
      ]
    },
    {
      "cell_type": "code",
      "source": [
        "def add_numbers(num1, num2):\n",
        "    return num1 + num2\n",
        "\n",
        "# Calling the function\n",
        "result = add_numbers(3, 5)\n",
        "print(result)  # Output: 8\n"
      ],
      "metadata": {
        "colab": {
          "base_uri": "https://localhost:8080/"
        },
        "id": "KJ1v7cMOHDtY",
        "outputId": "9f1dd2c3-b2bb-484e-9ea6-d4cd85bdd309"
      },
      "execution_count": 6,
      "outputs": [
        {
          "output_type": "stream",
          "name": "stdout",
          "text": [
            "8\n"
          ]
        }
      ]
    },
    {
      "cell_type": "code",
      "source": [
        "def evenOdd( x ):\n",
        "    if (x % 2 == 0):\n",
        "        print(\"even\")\n",
        "    else:\n",
        "        print(\"odd\")\n",
        "\n",
        "# Driver code\n",
        "evenOdd(2)\n",
        "evenOdd(3)\n",
        "evenOdd(15)"
      ],
      "metadata": {
        "colab": {
          "base_uri": "https://localhost:8080/"
        },
        "id": "FxDMtfWrHQ1C",
        "outputId": "fc6c94d4-729d-4f3f-9db5-95c31fed9520"
      },
      "execution_count": 14,
      "outputs": [
        {
          "output_type": "stream",
          "name": "stdout",
          "text": [
            "even\n",
            "odd\n",
            "odd\n"
          ]
        }
      ]
    },
    {
      "cell_type": "code",
      "source": [
        "# Python program to demonstrate\n",
        "# default arguments\n",
        "def myFun(x, y = 50):\n",
        "    print(\"x: \", x)\n",
        "    print(\"y: \", y)\n",
        "\n",
        "# Driver code\n",
        "myFun(10)\n",
        "evenOdd(15)"
      ],
      "metadata": {
        "colab": {
          "base_uri": "https://localhost:8080/"
        },
        "id": "DxgMalqHHere",
        "outputId": "2fe0688f-12cc-4bfb-adc3-1e236a2eae61"
      },
      "execution_count": 15,
      "outputs": [
        {
          "output_type": "stream",
          "name": "stdout",
          "text": [
            "x:  10\n",
            "y:  50\n",
            "odd\n"
          ]
        }
      ]
    },
    {
      "cell_type": "code",
      "source": [
        "def student(firstname, lastname):\n",
        "     print(firstname, lastname)\n",
        "\n",
        "\n",
        "# Keyword arguments\n",
        "student(firstname ='Geeks', lastname ='Practice')\n",
        "student(lastname ='Practice', firstname ='Geeks')\n"
      ],
      "metadata": {
        "colab": {
          "base_uri": "https://localhost:8080/"
        },
        "id": "6kC3gno9Hlne",
        "outputId": "6946ad17-d0bd-4a86-a61d-b12cad9d0970"
      },
      "execution_count": 3,
      "outputs": [
        {
          "output_type": "stream",
          "name": "stdout",
          "text": [
            "Geeks Practice\n",
            "Geeks Practice\n"
          ]
        }
      ]
    },
    {
      "cell_type": "code",
      "source": [
        "def add(a, b):\n",
        "\n",
        "    # returning sum of a and b\n",
        "    return a + b\n",
        "\n",
        "def is_true(a):\n",
        "\n",
        "    # returning boolean of a\n",
        "    return bool(a)\n",
        "\n",
        "# calling function\n",
        "res = add(2, 3)\n",
        "print(\"Result of add function is {}\".format(res))\n",
        "\n",
        "res = is_true(2 < 5)\n",
        "print(\"\\nResult of is_true function is {}\".format(res))"
      ],
      "metadata": {
        "colab": {
          "base_uri": "https://localhost:8080/"
        },
        "id": "zOOCSmrYIAqy",
        "outputId": "1f579b8a-481c-4135-a1fd-06f6873859ad"
      },
      "execution_count": 1,
      "outputs": [
        {
          "output_type": "stream",
          "name": "stdout",
          "text": [
            "Result of add function is 5\n",
            "\n",
            "Result of is_true function is True\n"
          ]
        }
      ]
    },
    {
      "cell_type": "code",
      "source": [
        "def multiply(a, b):\n",
        "    \"\"\"Function to multiply two numbers.\"\"\"\n",
        "    return a * b\n",
        "\n",
        "# Using the user-defined function\n",
        "result = multiply(4, 5)\n",
        "print(result)  # Output: 20"
      ],
      "metadata": {
        "colab": {
          "base_uri": "https://localhost:8080/"
        },
        "id": "OdwRZOPMJ7mw",
        "outputId": "ba45a31b-cb6b-4e02-baf6-f14dc5b3210e"
      },
      "execution_count": 2,
      "outputs": [
        {
          "output_type": "stream",
          "name": "stdout",
          "text": [
            "20\n"
          ]
        }
      ]
    },
    {
      "cell_type": "code",
      "source": [
        "# Function to find the maximum of three numbers\n",
        "def find_max(a, b, c):\n",
        "    if a > b and a > c:\n",
        "        return a\n",
        "    elif b > c:\n",
        "        return b\n",
        "    else:\n",
        "        return c\n",
        "\n",
        "# Example usage\n",
        "max_num = find_max(5, 10, 3)\n",
        "print(f\"The maximum number is: {max_num}\")\n"
      ],
      "metadata": {
        "colab": {
          "base_uri": "https://localhost:8080/"
        },
        "id": "klwDbnD7J8JV",
        "outputId": "f8ebd96f-e1fe-4667-be15-2525ad0784d0"
      },
      "execution_count": 9,
      "outputs": [
        {
          "output_type": "stream",
          "name": "stdout",
          "text": [
            "The maximum number is: 10\n"
          ]
        }
      ]
    },
    {
      "cell_type": "code",
      "source": [
        "# Function to calculate factorial\n",
        "def factorial(n):\n",
        "    if n == 0 or n == 1:\n",
        "        return 1\n",
        "    else:\n",
        "        return n * factorial(n - 1)\n",
        "\n",
        "# Example usage\n",
        "fact_result = factorial(5)\n",
        "print(f\"Factorial of 5 is: {fact_result}\")  # Output: 120\n"
      ],
      "metadata": {
        "colab": {
          "base_uri": "https://localhost:8080/"
        },
        "id": "jxFzVW1QLSlQ",
        "outputId": "c389fd6d-daec-4a60-beb1-f46d59cb5309"
      },
      "execution_count": 10,
      "outputs": [
        {
          "output_type": "stream",
          "name": "stdout",
          "text": [
            "Factorial of 5 is: 120\n"
          ]
        }
      ]
    },
    {
      "cell_type": "code",
      "source": [
        "# Function to convert Celsius to Fahrenheit\n",
        "def celsius_to_fahrenheit(celsius):\n",
        "    return (celsius * 9/5) + 32\n",
        "\n",
        "# Example usage\n",
        "temp_in_fahrenheit = celsius_to_fahrenheit(30)\n",
        "print(f\"25°C is equal to {temp_in_fahrenheit}°F\")\n"
      ],
      "metadata": {
        "colab": {
          "base_uri": "https://localhost:8080/"
        },
        "id": "xxdib1RXLX2v",
        "outputId": "c964d217-d75d-4b89-883b-de64e967e400"
      },
      "execution_count": 17,
      "outputs": [
        {
          "output_type": "stream",
          "name": "stdout",
          "text": [
            "25°C is equal to 86.0°F\n"
          ]
        }
      ]
    },
    {
      "cell_type": "code",
      "source": [
        "# Function to calculate the sum of a list of numbers\n",
        "def sum_of_list(numbers):\n",
        "    return sum(numbers)\n",
        "\n",
        "# Example usage\n",
        "my_list = [1, 2, 3, 4, 5]\n",
        "total_sum = sum_of_list(my_list)\n",
        "print(f\"Sum of the list: {total_sum}\")\n"
      ],
      "metadata": {
        "colab": {
          "base_uri": "https://localhost:8080/"
        },
        "id": "2vwuCtrNLkD4",
        "outputId": "4c6ef5b6-0921-4a6c-b35c-ed1a355fe241"
      },
      "execution_count": 12,
      "outputs": [
        {
          "output_type": "stream",
          "name": "stdout",
          "text": [
            "Sum of the list: 15\n"
          ]
        }
      ]
    },
    {
      "cell_type": "code",
      "source": [
        "# Python program to illustrate functions\n",
        "# can be passed as arguments to other functions\n",
        "def shout(text):\n",
        "    return text.upper()\n",
        "\n",
        "def whisper(text):\n",
        "    return text.lower()\n",
        "\n",
        "def greet(func):\n",
        "    # storing the function in a variable\n",
        "    greeting = func(\"Hi, I am created by a function passed as an argument.\")\n",
        "    print(greeting)\n",
        "\n",
        "greet(shout)\n",
        "greet(whisper)\n"
      ],
      "metadata": {
        "colab": {
          "base_uri": "https://localhost:8080/"
        },
        "id": "c_kmohL7LsDK",
        "outputId": "61fc2f76-8f52-4e83-e765-14bfc831f22b"
      },
      "execution_count": 18,
      "outputs": [
        {
          "output_type": "stream",
          "name": "stdout",
          "text": [
            "HI, I AM CREATED BY A FUNCTION PASSED AS AN ARGUMENT.\n",
            "hi, i am created by a function passed as an argument.\n"
          ]
        }
      ]
    }
  ]
}